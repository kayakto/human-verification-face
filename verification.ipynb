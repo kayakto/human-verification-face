{
 "cells": [
  {
   "cell_type": "code",
   "execution_count": null,
   "id": "37db4188",
   "metadata": {},
   "outputs": [],
   "source": [
    "import os\n",
    "from PIL import Image\n",
    "import numpy as np\n",
    "import matplotlib.pyplot as plt"
   ]
  },
  {
   "cell_type": "code",
   "execution_count": null,
   "id": "d14fbd13",
   "metadata": {},
   "outputs": [],
   "source": [
    "# путь к изображениям и файлу пар\n",
    "lfw_dir = '/путь/до/lfw-deepfunneled'\n",
    "pairs_file = '/путь/до/pairsDevTest.txt'\n",
    "\n",
    "# читаем пары\n",
    "with open(pairs_file, 'r') as f:\n",
    "    lines = f.readlines()[1:]  # пропускаем первую строку (заголовок)\n",
    "\n",
    "pairs = []\n",
    "labels = []\n",
    "\n",
    "for line in lines:\n",
    "    parts = line.strip().split()\n",
    "    if len(parts) == 3:\n",
    "        # positive pair: name, idx1, idx2\n",
    "        name, idx1, idx2 = parts\n",
    "        img1 = os.path.join(lfw_dir, name, f\"{name}_{int(idx1):04d}.jpg\")\n",
    "        img2 = os.path.join(lfw_dir, name, f\"{name}_{int(idx2):04d}.jpg\")\n",
    "        label = 1\n",
    "    elif len(parts) == 4:\n",
    "        # negative pair: name1, idx1, name2, idx2\n",
    "        name1, idx1, name2, idx2 = parts\n",
    "        img1 = os.path.join(lfw_dir, name1, f\"{name1}_{int(idx1):04d}.jpg\")\n",
    "        img2 = os.path.join(lfw_dir, name2, f\"{name2}_{int(idx2):04d}.jpg\")\n",
    "        label = 0\n",
    "    else:\n",
    "        continue\n",
    "\n",
    "    if os.path.exists(img1) and os.path.exists(img2):\n",
    "        pairs.append((img1, img2))\n",
    "        labels.append(label)\n",
    "\n",
    "print(f\"Загружено {len(pairs)} пар\")\n"
   ]
  },
  {
   "cell_type": "code",
   "execution_count": null,
   "id": "0f727622",
   "metadata": {},
   "outputs": [],
   "source": []
  }
 ],
 "metadata": {
  "language_info": {
   "name": "python"
  }
 },
 "nbformat": 4,
 "nbformat_minor": 5
}
