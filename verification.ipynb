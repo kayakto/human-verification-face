{
 "cells": [
  {
   "cell_type": "code",
   "execution_count": 10,
   "id": "37db4188",
   "metadata": {},
   "outputs": [],
   "source": [
    "import os\n",
    "from PIL import Image\n",
    "import numpy as np\n",
    "import matplotlib.pyplot as plt"
   ]
  },
  {
   "cell_type": "code",
   "execution_count": null,
   "id": "d14fbd13",
   "metadata": {},
   "outputs": [
    {
     "name": "stdout",
     "output_type": "stream",
     "text": [
      "Загружено 1000 пар\n"
     ]
    }
   ],
   "source": [
    "lfw_dir = 'dataset/lfw_funneled'\n",
    "pairs_file = 'dataset/pairsDevTest.txt'\n",
    "\n",
    "with open(pairs_file, 'r') as f:\n",
    "    lines = f.readlines()[1:]\n",
    "\n",
    "pairs = []\n",
    "labels = []\n",
    "\n",
    "for line in lines:\n",
    "    parts = line.strip().split()\n",
    "    if len(parts) == 3:\n",
    "        # positive pair: name, idx1, idx2\n",
    "        name, idx1, idx2 = parts\n",
    "        img1 = os.path.join(lfw_dir, name, f\"{name}_{int(idx1):04d}.jpg\")\n",
    "        img2 = os.path.join(lfw_dir, name, f\"{name}_{int(idx2):04d}.jpg\")\n",
    "        label = 1\n",
    "    elif len(parts) == 4:\n",
    "        # negative pair: name1, idx1, name2, idx2\n",
    "        name1, idx1, name2, idx2 = parts\n",
    "        img1 = os.path.join(lfw_dir, name1, f\"{name1}_{int(idx1):04d}.jpg\")\n",
    "        img2 = os.path.join(lfw_dir, name2, f\"{name2}_{int(idx2):04d}.jpg\")\n",
    "        label = 0\n",
    "    else:\n",
    "        print(f\"Invalid line: {parts}\")\n",
    "        break\n",
    "\n",
    "    if os.path.exists(img1) and os.path.exists(img2):\n",
    "        pairs.append((img1, img2))\n",
    "        labels.append(label)\n",
    "    else:\n",
    "        print(f\"Invalid line: {parts}\")\n",
    "        break\n",
    "\n",
    "pair_labels = [(pairs[i], labels[i]) for i in range(len(pairs))]\n",
    "print(f\"Загружено {len(pairs)} пар\")\n"
   ]
  }
 ],
 "metadata": {
  "kernelspec": {
   "display_name": "Python 3",
   "language": "python",
   "name": "python3"
  },
  "language_info": {
   "codemirror_mode": {
    "name": "ipython",
    "version": 3
   },
   "file_extension": ".py",
   "mimetype": "text/x-python",
   "name": "python",
   "nbconvert_exporter": "python",
   "pygments_lexer": "ipython3",
   "version": "3.12.4"
  }
 },
 "nbformat": 4,
 "nbformat_minor": 5
}
