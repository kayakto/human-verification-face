{
 "cells": [
  {
   "cell_type": "code",
   "execution_count": 69,
   "id": "37db4188",
   "metadata": {},
   "outputs": [],
   "source": [
    "import os\n",
    "from PIL import Image\n",
    "import matplotlib.pyplot as plt\n",
    "import numpy as np\n",
    "from tqdm import tqdm\n",
    "import torch\n",
    "from facenet_pytorch import MTCNN, InceptionResnetV1\n",
    "from sklearn.metrics import accuracy_score, roc_curve, auc"
   ]
  },
  {
   "cell_type": "markdown",
   "id": "9b754c01",
   "metadata": {},
   "source": [
    "# ResNet"
   ]
  },
  {
   "cell_type": "markdown",
   "id": "a6c669be",
   "metadata": {},
   "source": [
    "### Инициализация модели"
   ]
  },
  {
   "cell_type": "code",
   "execution_count": 70,
   "id": "048018a1",
   "metadata": {},
   "outputs": [
    {
     "name": "stdout",
     "output_type": "stream",
     "text": [
      "False\n"
     ]
    }
   ],
   "source": [
    "print(torch.cuda.is_available())\n",
    "device = 'cuda' if torch.cuda.is_available() else 'cpu'\n",
    "mtcnn = MTCNN(image_size=160, margin=0, device=device)\n",
    "resnet = InceptionResnetV1(pretrained='vggface2').eval().to(device)"
   ]
  },
  {
   "cell_type": "code",
   "execution_count": null,
   "id": "bf2865e9",
   "metadata": {},
   "outputs": [],
   "source": [
    "def get_embedding(img_path, model, show=False):\n",
    "    img = Image.open(img_path).convert('RGB')\n",
    "    face = mtcnn(img)\n",
    "\n",
    "    if face is None:\n",
    "        print(\"Лицо не обнаружено.\")\n",
    "        return None\n",
    "\n",
    "    if show:\n",
    "        # Переводим тензор в numpy и транспонируем под формат [H, W, C]\n",
    "        face_np = face.permute(1, 2, 0).cpu().numpy()\n",
    "        face_np = np.clip(face_np, 0, 1)  # на случай значений вне диапазона\n",
    "\n",
    "        # Отображение\n",
    "        fig, axs = plt.subplots(1, 2, figsize=(8, 4))\n",
    "        axs[0].imshow(img)\n",
    "        axs[0].set_title(\"Оригинал\")\n",
    "        axs[0].axis('off')\n",
    "\n",
    "        axs[1].imshow(face_np)\n",
    "        axs[1].set_title(\"Обработанное лицо\")\n",
    "        axs[1].axis('off')\n",
    "\n",
    "        plt.tight_layout()\n",
    "        plt.show()\n",
    "\n",
    "    with torch.no_grad():\n",
    "        embedding = model(face.unsqueeze(0).to(device))\n",
    "    return embedding.cpu().numpy()[0]"
   ]
  },
  {
   "cell_type": "markdown",
   "id": "cc96dc9c",
   "metadata": {},
   "source": [
    "### Тестирование модели"
   ]
  },
  {
   "cell_type": "code",
   "execution_count": 72,
   "id": "00345111",
   "metadata": {},
   "outputs": [
    {
     "name": "stdout",
     "output_type": "stream",
     "text": [
      "Загружено 1000 пар\n"
     ]
    }
   ],
   "source": [
    "lfw_dir = 'dataset/lfw_funneled'\n",
    "pairs_file = 'dataset/pairsDevTest.txt'\n",
    "\n",
    "with open(pairs_file, 'r') as f:\n",
    "    lines = f.readlines()[1:]\n",
    "\n",
    "pairs = []\n",
    "labels = []\n",
    "\n",
    "for line in lines:\n",
    "    parts = line.strip().split()\n",
    "    if len(parts) == 3:\n",
    "        # positive pair: name, idx1, idx2\n",
    "        name, idx1, idx2 = parts\n",
    "        img1 = os.path.join(lfw_dir, name, f\"{name}_{int(idx1):04d}.jpg\")\n",
    "        img2 = os.path.join(lfw_dir, name, f\"{name}_{int(idx2):04d}.jpg\")\n",
    "        label = 1\n",
    "    elif len(parts) == 4:\n",
    "        # negative pair: name1, idx1, name2, idx2\n",
    "        name1, idx1, name2, idx2 = parts\n",
    "        img1 = os.path.join(lfw_dir, name1, f\"{name1}_{int(idx1):04d}.jpg\")\n",
    "        img2 = os.path.join(lfw_dir, name2, f\"{name2}_{int(idx2):04d}.jpg\")\n",
    "        label = 0\n",
    "    else:\n",
    "        print(f\"Invalid line: {parts}\")\n",
    "        break\n",
    "\n",
    "    if os.path.exists(img1) and os.path.exists(img2):\n",
    "        pairs.append((img1, img2))\n",
    "        labels.append(label)\n",
    "    else:\n",
    "        print(f\"Invalid line: {parts}\")\n",
    "        break\n",
    "\n",
    "pair_labels = [(pairs[i], labels[i]) for i in range(len(pairs))]\n",
    "print(f\"Загружено {len(pairs)} пар\")"
   ]
  },
  {
   "cell_type": "code",
   "execution_count": null,
   "id": "1e6a15aa",
   "metadata": {},
   "outputs": [
    {
     "name": "stdout",
     "output_type": "stream",
     "text": [
      "AUC = 0.9751\n",
      "Optimal threshold = 1.0212\n",
      "Accuracy = 0.9650\n"
     ]
    }
   ],
   "source": [
    "embeddings1, embeddings2, y_true = [], [], []\n",
    "for (img1, img2), label in tqdm(pair_labels, total=len(pair_labels)):\n",
    "    e1 = get_embedding(img1, resnet)\n",
    "    e2 = get_embedding(img2, resnet)\n",
    "    \n",
    "    face_not_found = e1 is None or e2 is None\n",
    "    if face_not_found:\n",
    "        continue\n",
    "\n",
    "    embeddings1.append(e1)\n",
    "    embeddings2.append(e2)\n",
    "    y_true.append(label)\n",
    "\n",
    "embeddings1 = np.vstack(embeddings1)\n",
    "embeddings2 = np.vstack(embeddings2)\n",
    "y_true = np.array(y_true)\n",
    "\n",
    "distances = np.linalg.norm(embeddings1 - embeddings2, axis=1)\n",
    "\n",
    "# 4. Определяем оптимальный порог по ROC-кривой\n",
    "fpr, tpr, thresholds = roc_curve(y_true, -distances)  \n",
    "# (отрицание, потому что более похожие — меньшее расстояние)\n",
    "roc_auc = auc(fpr, tpr)\n",
    "\n",
    "# Выбираем threshold, при котором tpr – (1 – fpr) максимально\n",
    "gmeans = np.sqrt(tpr * (1 - fpr))\n",
    "ix = np.argmax(gmeans)\n",
    "best_thresh = thresholds[ix]\n",
    "\n",
    "# 5. Оцениваем точность при этом пороге\n",
    "y_pred = (distances < -best_thresh).astype(int)\n",
    "acc = accuracy_score(y_true, y_pred)\n",
    "\n",
    "print(f\"AUC = {roc_auc:.4f}\")\n",
    "print(f\"Optimal threshold = { -best_thresh :.4f}\")\n",
    "print(f\"Accuracy = {acc:.4f}\")"
   ]
  },
  {
   "cell_type": "markdown",
   "id": "11117416",
   "metadata": {},
   "source": [
    "# Практическое применение"
   ]
  },
  {
   "cell_type": "code",
   "execution_count": null,
   "id": "b5b49efd",
   "metadata": {},
   "outputs": [],
   "source": [
    "def verify_faces(img1_path, img2_path, model, threshold=1.0):\n",
    "    \"\"\"\n",
    "    Вычисляет евклидово расстояние между двумя embeddings\n",
    "    и сравнивает его с пороговым значением.\n",
    "    \"\"\"\n",
    "    emb1 = get_embedding(img1_path, model)\n",
    "    emb2 = get_embedding(img2_path, model)\n",
    "    dist = np.linalg.norm(emb1 - emb2)\n",
    "    print(f\"Distance: {dist:.4f}\")\n",
    "    if dist < threshold:\n",
    "        print(\"✅ Совпадение\")\n",
    "    else:\n",
    "        print(\"❌ Нет совпадений\")"
   ]
  },
  {
   "cell_type": "code",
   "execution_count": 76,
   "id": "81990f0f",
   "metadata": {},
   "outputs": [
    {
     "name": "stdout",
     "output_type": "stream",
     "text": [
      "Distance: 0.0000\n",
      "✅ Same person\n",
      "Distance: 1.3063\n",
      "❌ Different persons\n",
      "Distance: 1.2539\n",
      "❌ Different persons\n",
      "Distance: 1.3976\n",
      "❌ Different persons\n",
      "Distance: 1.4313\n",
      "❌ Different persons\n",
      "Distance: 1.2731\n",
      "❌ Different persons\n"
     ]
    }
   ],
   "source": [
    "sample = 'dataset/lfw_funneled/Donald_Trump/Donald_Trump_0001.jpg'\n",
    "\n",
    "image0 = 'dataset/lfw_funneled/Donald_Trump/Donald_Trump_0001.jpg'\n",
    "image1 = 'dataset/lfw_funneled/Princess_Aiko/Princess_Aiko_0002.jpg'\n",
    "image2 = 'dataset/lfw_funneled/Zico/Zico_0001.jpg'\n",
    "image3 = 'dataset/lfw_funneled/Princess_Caroline/Princess_Caroline_0001.jpg'\n",
    "image4 = 'dataset/lfw_funneled/Princess_Diana/Princess_Diana_0001.jpg'\n",
    "image5 = 'dataset/lfw_funneled/Princess_Hisako/Princess_Hisako_0001.jpg'\n",
    "\n",
    "verify_faces(sample, image0, resnet)\n",
    "verify_faces(sample, image1, resnet)\n",
    "verify_faces(sample, image2, resnet)\n",
    "verify_faces(sample, image3, resnet)\n",
    "verify_faces(sample, image4, resnet)\n",
    "verify_faces(sample, image5, resnet)"
   ]
  }
 ],
 "metadata": {
  "kernelspec": {
   "display_name": "Python 3",
   "language": "python",
   "name": "python3"
  },
  "language_info": {
   "codemirror_mode": {
    "name": "ipython",
    "version": 3
   },
   "file_extension": ".py",
   "mimetype": "text/x-python",
   "name": "python",
   "nbconvert_exporter": "python",
   "pygments_lexer": "ipython3",
   "version": "3.12.4"
  }
 },
 "nbformat": 4,
 "nbformat_minor": 5
}
