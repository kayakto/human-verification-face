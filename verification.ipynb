{
 "cells": [
  {
   "cell_type": "code",
   "execution_count": 32,
   "id": "37db4188",
   "metadata": {
    "ExecuteTime": {
     "end_time": "2025-04-25T20:43:54.898822300Z",
     "start_time": "2025-04-25T20:43:54.858204400Z"
    }
   },
   "outputs": [],
   "source": [
    "import os\n",
    "\n",
    "import matplotlib.pyplot as plt\n",
    "import numpy as np\n",
    "import torch\n",
    "from PIL import Image\n",
    "from facenet_pytorch import MTCNN, InceptionResnetV1\n",
    "from sklearn.metrics import accuracy_score, roc_curve, auc\n",
    "from tqdm import tqdm"
   ]
  },
  {
   "cell_type": "markdown",
   "id": "92bb2d43",
   "metadata": {},
   "source": [
    "# Инфра"
   ]
  },
  {
   "cell_type": "code",
   "execution_count": 33,
   "id": "b734e4fb",
   "metadata": {
    "ExecuteTime": {
     "end_time": "2025-04-25T20:43:54.921585700Z",
     "start_time": "2025-04-25T20:43:54.870071200Z"
    }
   },
   "outputs": [],
   "source": [
    "class LabeledImage:\n",
    "    def __init__(self, image_path, image_label):\n",
    "        self.path = image_path\n",
    "        self.label = image_label\n",
    "\n",
    "\n",
    "def parse_dataset(dataset_dir) -> list[LabeledImage]:\n",
    "    \"\"\"\n",
    "    Парсит датасет со структурой ./dir/<person>/<image>.jpg\n",
    "    \"\"\"\n",
    "    labeled_images = []\n",
    "    dir_path = f\"./{dataset_dir}\"\n",
    "    for person in os.listdir(dir_path):\n",
    "        person_dir = os.path.join(dir_path, person)\n",
    "        if os.path.isdir(person_dir):\n",
    "            for img in os.listdir(person_dir):\n",
    "                if img.lower().endswith(('.jpg', 'png', 'jpeg')):\n",
    "                    path = os.path.join(person_dir, img)\n",
    "                    labeled_images.append(LabeledImage(path, person))\n",
    "    return labeled_images\n",
    "\n",
    "\n",
    "def get_embedding(img_path, model, show=False):\n",
    "    img = Image.open(img_path).convert('RGB')\n",
    "    face = mtcnn(img)\n",
    "\n",
    "    if face is None:\n",
    "        print(f\"Лицо не обнаружено. path = {img_path}\")\n",
    "        return None\n",
    "\n",
    "    if show:\n",
    "        # Переводим тензор в numpy и транспонируем под формат [H, W, C]\n",
    "        face_np = face.permute(1, 2, 0).cpu().numpy()\n",
    "        face_np = np.clip(face_np, 0, 1)  # на случай значений вне диапазона\n",
    "\n",
    "        # Отображение\n",
    "        fig, axs = plt.subplots(1, 2, figsize=(8, 4))\n",
    "        axs[0].imshow(img)\n",
    "        axs[0].set_title(\"Оригинал\")\n",
    "        axs[0].axis('off')\n",
    "\n",
    "        axs[1].imshow(face_np)\n",
    "        axs[1].set_title(\"Обработанное лицо\")\n",
    "        axs[1].axis('off')\n",
    "\n",
    "        plt.tight_layout()\n",
    "        plt.show()\n",
    "\n",
    "    with torch.no_grad():\n",
    "        embedding = model(face.unsqueeze(0).to(device))\n",
    "    return embedding.cpu().numpy()[0]\n",
    "\n",
    "\n",
    "def get_emb_distance(emb1, emb2):\n",
    "    return np.linalg.norm(emb1 - emb2)\n",
    "\n",
    "\n",
    "def get_img_distance(img1_path, img2_path, model):\n",
    "    emb1 = get_embedding(img1_path, model)\n",
    "    emb2 = get_embedding(img2_path, model)\n",
    "    return get_emb_distance(emb1, emb2)\n",
    "\n",
    "\n",
    "def verify_face(face1_path, face2_path, model, threshold=1.0) -> bool:\n",
    "    dist = get_img_distance(face1_path, face2_path, model)\n",
    "    print(f\"Distance: {dist:.4f}\")\n",
    "    if dist < threshold:\n",
    "        return True\n",
    "    else:\n",
    "        return False"
   ]
  },
  {
   "cell_type": "markdown",
   "id": "cc96dc9c",
   "metadata": {},
   "source": [
    "### Тестирование модели"
   ]
  },
  {
   "cell_type": "code",
   "execution_count": 34,
   "id": "00345111",
   "metadata": {
    "ExecuteTime": {
     "end_time": "2025-04-25T20:43:54.957841900Z",
     "start_time": "2025-04-25T20:43:54.887728400Z"
    }
   },
   "outputs": [],
   "source": [
    "def load_lfw():\n",
    "    lfw_dir = 'dataset/lfw_funneled'\n",
    "    pairs_file = 'dataset/pairsDevTest.txt'\n",
    "\n",
    "    with open(pairs_file, 'r') as f:\n",
    "        lines = f.readlines()[1:]\n",
    "\n",
    "    pairs = []\n",
    "    labels = []\n",
    "\n",
    "    for line in lines:\n",
    "        parts = line.strip().split()\n",
    "        if len(parts) == 3:\n",
    "            # positive pair: name, idx1, idx2\n",
    "            name, idx1, idx2 = parts\n",
    "            img1 = os.path.join(lfw_dir, name, f\"{name}_{int(idx1):04d}.jpg\")\n",
    "            img2 = os.path.join(lfw_dir, name, f\"{name}_{int(idx2):04d}.jpg\")\n",
    "            label = 1\n",
    "        elif len(parts) == 4:\n",
    "            # negative pair: name1, idx1, name2, idx2\n",
    "            name1, idx1, name2, idx2 = parts\n",
    "            img1 = os.path.join(lfw_dir, name1, f\"{name1}_{int(idx1):04d}.jpg\")\n",
    "            img2 = os.path.join(lfw_dir, name2, f\"{name2}_{int(idx2):04d}.jpg\")\n",
    "            label = 0\n",
    "        else:\n",
    "            print(f\"Invalid line: {parts}\")\n",
    "            break\n",
    "\n",
    "        if os.path.exists(img1) and os.path.exists(img2):\n",
    "            pairs.append((img1, img2))\n",
    "            labels.append(label)\n",
    "        else:\n",
    "            print(f\"Invalid line: {parts}\")\n",
    "            break\n",
    "\n",
    "    pair_labels = [(pairs[i], labels[i]) for i in range(len(pairs))]\n",
    "    print(f\"Загружено {len(pairs)} пар\")\n",
    "    return pair_labels"
   ]
  },
  {
   "cell_type": "code",
   "execution_count": 35,
   "id": "1e6a15aa",
   "metadata": {
    "ExecuteTime": {
     "end_time": "2025-04-25T20:43:54.957841900Z",
     "start_time": "2025-04-25T20:43:54.895879200Z"
    }
   },
   "outputs": [],
   "source": [
    "def lfw_test(pair_labels, model):\n",
    "    distances_list, y_true = [], []\n",
    "    for (img1, img2), label in tqdm(pair_labels, total=len(pair_labels)):\n",
    "        e1 = get_embedding(img1, model)\n",
    "        e2 = get_embedding(img2, model)\n",
    "\n",
    "        if e1 is None or e2 is None:\n",
    "            continue\n",
    "\n",
    "        dist = get_emb_distance(e1, e2)\n",
    "        distances_list.append(dist)\n",
    "        y_true.append(label)\n",
    "\n",
    "    distances = np.vstack(distances_list)\n",
    "    y_true = np.array(y_true)\n",
    "\n",
    "    # 4. Определяем оптимальный порог по ROC-кривой\n",
    "    fpr, tpr, thresholds = roc_curve(y_true, -distances)\n",
    "    # (отрицание, потому что более похожие — меньшее расстояние)\n",
    "    roc_auc = auc(fpr, tpr)\n",
    "\n",
    "    # Выбираем threshold, при котором tpr – (1 – fpr) максимально\n",
    "    gmeans = np.sqrt(tpr * (1 - fpr))\n",
    "    ix = np.argmax(gmeans)\n",
    "    best_thresh = thresholds[ix]\n",
    "\n",
    "    # 5. Оцениваем точность при этом пороге\n",
    "    y_pred = (distances < -best_thresh).astype(int)\n",
    "    acc = accuracy_score(y_true, y_pred)\n",
    "\n",
    "    print(f\"AUC = {roc_auc:.4f}\")\n",
    "    print(f\"Optimal threshold = {-best_thresh :.4f}\")\n",
    "    print(f\"Accuracy = {acc:.4f}\")"
   ]
  },
  {
   "cell_type": "markdown",
   "source": [
    "# ResNet"
   ],
   "metadata": {
    "collapsed": false
   },
   "id": "fd895225683f07e6"
  },
  {
   "cell_type": "code",
   "execution_count": 36,
   "outputs": [
    {
     "name": "stdout",
     "output_type": "stream",
     "text": [
      "Используем cpu\n"
     ]
    }
   ],
   "source": [
    "device = 'cuda' if torch.cuda.is_available() else 'cpu'\n",
    "print(f\"Используем {device}\")\n",
    "mtcnn = MTCNN(image_size=160, margin=0, device=device)\n",
    "resnet = InceptionResnetV1(pretrained='vggface2').eval().to(device)"
   ],
   "metadata": {
    "collapsed": false,
    "ExecuteTime": {
     "end_time": "2025-04-25T20:43:55.271239600Z",
     "start_time": "2025-04-25T20:43:54.898822300Z"
    }
   },
   "id": "e7d407b6f914803f"
  },
  {
   "cell_type": "code",
   "execution_count": 37,
   "outputs": [
    {
     "name": "stdout",
     "output_type": "stream",
     "text": [
      "Загружено 1000 пар\n"
     ]
    },
    {
     "name": "stderr",
     "output_type": "stream",
     "text": [
      "100%|██████████| 1000/1000 [02:42<00:00,  6.15it/s]"
     ]
    },
    {
     "name": "stdout",
     "output_type": "stream",
     "text": [
      "AUC = 0.9751\n",
      "Optimal threshold = 1.0212\n",
      "Accuracy = 0.9650\n"
     ]
    },
    {
     "name": "stderr",
     "output_type": "stream",
     "text": [
      "\n"
     ]
    }
   ],
   "source": [
    "pair_labels = load_lfw()\n",
    "lfw_test(pair_labels, resnet)"
   ],
   "metadata": {
    "collapsed": false,
    "ExecuteTime": {
     "end_time": "2025-04-25T20:46:37.879641300Z",
     "start_time": "2025-04-25T20:43:55.271239600Z"
    }
   },
   "id": "f53c339a981809fe"
  },
  {
   "cell_type": "markdown",
   "id": "11117416",
   "metadata": {},
   "source": [
    "# Практическое применение"
   ]
  },
  {
   "cell_type": "code",
   "execution_count": 44,
   "id": "bf0285bc",
   "metadata": {
    "ExecuteTime": {
     "end_time": "2025-04-25T20:50:20.266703700Z",
     "start_time": "2025-04-25T20:50:16.996663600Z"
    }
   },
   "outputs": [
    {
     "name": "stdout",
     "output_type": "stream",
     "text": [
      "Distance: 0.9870\n",
      "Egor_Alexeev_1.png - Egor_Alexeev_2.jpg: \t Один человек\n",
      "Distance: 1.3135\n",
      "Egor_Alexeev_1.png - Misha_Melnikov_1.jpg: \t Разные люди\n",
      "Distance: 1.3025\n",
      "Egor_Alexeev_1.png - Misha_Melnikov_2.jpg: \t Разные люди\n",
      "Distance: 1.3042\n",
      "Egor_Alexeev_2.jpg - Misha_Melnikov_1.jpg: \t Разные люди\n",
      "Distance: 1.3626\n",
      "Egor_Alexeev_2.jpg - Misha_Melnikov_2.jpg: \t Разные люди\n",
      "Distance: 0.4906\n",
      "Misha_Melnikov_1.jpg - Misha_Melnikov_2.jpg: \t Один человек\n"
     ]
    }
   ],
   "source": [
    "import itertools\n",
    "from matplotlib import gridspec\n",
    "\n",
    "# Путь к папке с изображениями\n",
    "labeles_images = parse_dataset(\"test\")\n",
    "\n",
    "# Сравнение попарно\n",
    "path_pairs = list(itertools.combinations([p.path for p in labeles_images], 2))\n",
    "\n",
    "# Визуализация\n",
    "for path1, path2 in path_pairs:\n",
    "    match = verify_face(path1, path2, resnet)\n",
    "\n",
    "    print(f\"{os.path.basename(path1)} - {os.path.basename(path2)}: \\t {\"Один человек\" if match else \"Разные люди\"}\")\n",
    "\n",
    "    # # Визуализация\n",
    "    # fig = plt.figure(figsize=(8, 4))\n",
    "    # gs = gridspec.GridSpec(1, 2)\n",
    "    # \n",
    "    # img1 = Image.open(path1)\n",
    "    # img2 = Image.open(path2)\n",
    "    # \n",
    "    # ax1 = fig.add_subplot(gs[0])\n",
    "    # ax1.imshow(img1)\n",
    "    # ax1.set_title(os.path.basename(path1))\n",
    "    # ax1.axis('off')\n",
    "    # \n",
    "    # ax2 = fig.add_subplot(gs[1])\n",
    "    # ax2.imshow(img2)\n",
    "    # ax2.set_title(os.path.basename(path2))\n",
    "    # ax2.axis('off')\n",
    "    # \n",
    "    # plt.suptitle(f\"Расстояние: {\"Совпадение\" if match else \"Различие\"}\", fontsize=14)\n",
    "    # plt.tight_layout()\n",
    "    # plt.show()\n"
   ]
  },
  {
   "cell_type": "code",
   "execution_count": 41,
   "id": "a2789005",
   "metadata": {
    "ExecuteTime": {
     "end_time": "2025-04-25T20:47:33.374784100Z",
     "start_time": "2025-04-25T20:47:31.940179900Z"
    }
   },
   "outputs": [
    {
     "data": {
      "text/plain": "<Figure size 640x480 with 2 Axes>",
      "image/png": "[encoded data removed]"
     },
     "metadata": {},
     "output_type": "display_data"
    },
    {
     "name": "stdout",
     "output_type": "stream",
     "text": [
      "              precision    recall  f1-score   support\n",
      "\n",
      "   non-match       1.00      1.00      1.00         4\n",
      "       match       1.00      1.00      1.00         2\n",
      "\n",
      "    accuracy                           1.00         6\n",
      "   macro avg       1.00      1.00      1.00         6\n",
      "weighted avg       1.00      1.00      1.00         6\n"
     ]
    }
   ],
   "source": [
    "import os, itertools\n",
    "import numpy as np\n",
    "from PIL import Image\n",
    "from sklearn.metrics import confusion_matrix, classification_report\n",
    "import matplotlib.pyplot as plt\n",
    "import seaborn as sns\n",
    "\n",
    "labeled_images = parse_dataset(\"test\")\n",
    "\n",
    "embeddings = np.stack([get_embedding(p.path, resnet) for p in labeled_images])\n",
    "labels = np.array([p.label for p in labeled_images])\n",
    "\n",
    "# Матрица попарных расстояний\n",
    "N = len(labeled_images)\n",
    "D = np.zeros((N, N))\n",
    "for i, j in itertools.product(range(N), range(N)):\n",
    "    D[i, j] = get_emb_distance(embeddings[i], embeddings[j])\n",
    "\n",
    "threshold = 1\n",
    "\n",
    "# Confusion Matrix для всех комбинаций\n",
    "pairs = list(itertools.combinations(range(N), 2))\n",
    "y_true, y_pred = [], []\n",
    "for i, j in pairs:\n",
    "    y_true.append(labels[i] == labels[j])\n",
    "    y_pred.append(get_emb_distance(embeddings[i], embeddings[j]) < threshold)\n",
    "\n",
    "cm = confusion_matrix(y_true, y_pred)\n",
    "plt.figure()\n",
    "sns.heatmap(cm, annot=True, fmt='d',\n",
    "            xticklabels=['non-match', 'match'],\n",
    "            yticklabels=['non-match', 'match'])\n",
    "plt.xlabel('Предсказано')\n",
    "plt.ylabel('Истина')\n",
    "plt.title('Confusion Matrix')\n",
    "plt.show()\n",
    "\n",
    "print(classification_report(y_true, y_pred,\n",
    "                            target_names=['non-match', 'match']))"
   ]
  }
 ],
 "metadata": {
  "kernelspec": {
   "display_name": "Python 3",
   "language": "python",
   "name": "python3"
  },
  "language_info": {
   "codemirror_mode": {
    "name": "ipython",
    "version": 3
   },
   "file_extension": ".py",
   "mimetype": "text/x-python",
   "name": "python",
   "nbconvert_exporter": "python",
   "pygments_lexer": "ipython3",
   "version": "3.12.4"
  }
 },
 "nbformat": 4,
 "nbformat_minor": 5
}
